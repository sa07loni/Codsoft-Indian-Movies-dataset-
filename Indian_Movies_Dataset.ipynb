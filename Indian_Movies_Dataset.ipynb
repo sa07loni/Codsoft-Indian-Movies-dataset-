{
  "nbformat": 4,
  "nbformat_minor": 0,
  "metadata": {
    "colab": {
      "provenance": []
    },
    "kernelspec": {
      "name": "python3",
      "display_name": "Python 3"
    },
    "language_info": {
      "name": "python"
    }
  },
  "cells": [
    {
      "cell_type": "markdown",
      "source": [
        "\n",
        "\n",
        "```\n",
        "Loading libraries\n",
        "```\n",
        "\n"
      ],
      "metadata": {
        "id": "VrDri_RBAeI3"
      }
    },
    {
      "cell_type": "code",
      "execution_count": 1,
      "metadata": {
        "id": "mXpQjji9Ic4w"
      },
      "outputs": [],
      "source": [
        "import pandas as pd\n",
        "import numpy as np\n",
        "from sklearn.model_selection import train_test_split\n",
        "from sklearn.preprocessing import OneHotEncoder\n",
        "from sklearn.compose import ColumnTransformer\n",
        "from sklearn.pipeline import Pipeline\n",
        "from sklearn.impute import SimpleImputer\n",
        "from sklearn.ensemble import RandomForestRegressor\n",
        "from sklearn.metrics import mean_squared_error, mean_absolute_error, r2_score\n",
        "\n"
      ]
    },
    {
      "cell_type": "markdown",
      "source": [
        "Loading dataset"
      ],
      "metadata": {
        "id": "do7i1iEOAmhE"
      }
    },
    {
      "cell_type": "code",
      "source": [
        "from google.colab import files\n",
        "import pandas as pd\n",
        "uploaded = files.upload()\n",
        "file_name = list(uploaded.keys())[0]\n",
        "try:\n",
        "    data = pd.read_csv(file_name, encoding='latin1')\n",
        "    print(\"File read successfully with latin1 encoding\")\n",
        "except UnicodeDecodeError:\n",
        "    try:\n",
        "        data = pd.read_csv(file_name, encoding='iso-8859-1')\n",
        "        print(\"File read successfully with iso-8859-1 encoding\")\n",
        "    except UnicodeDecodeError:\n",
        "        data = pd.read_csv(file_name, encoding='cp1252')\n",
        "        print(\"File read successfully with cp1252 encoding\")\n",
        "\n",
        "\n",
        "print(data.head())\n"
      ],
      "metadata": {
        "id": "voC8YsDbJcYC",
        "colab": {
          "base_uri": "https://localhost:8080/",
          "height": 437
        },
        "outputId": "76ea9cf4-0741-4f99-bb98-a8f164d7ecca"
      },
      "execution_count": 18,
      "outputs": [
        {
          "output_type": "display_data",
          "data": {
            "text/plain": [
              "<IPython.core.display.HTML object>"
            ],
            "text/html": [
              "\n",
              "     <input type=\"file\" id=\"files-43ca47fa-7ad7-407c-8b0a-6e1bb91979ea\" name=\"files[]\" multiple disabled\n",
              "        style=\"border:none\" />\n",
              "     <output id=\"result-43ca47fa-7ad7-407c-8b0a-6e1bb91979ea\">\n",
              "      Upload widget is only available when the cell has been executed in the\n",
              "      current browser session. Please rerun this cell to enable.\n",
              "      </output>\n",
              "      <script>// Copyright 2017 Google LLC\n",
              "//\n",
              "// Licensed under the Apache License, Version 2.0 (the \"License\");\n",
              "// you may not use this file except in compliance with the License.\n",
              "// You may obtain a copy of the License at\n",
              "//\n",
              "//      http://www.apache.org/licenses/LICENSE-2.0\n",
              "//\n",
              "// Unless required by applicable law or agreed to in writing, software\n",
              "// distributed under the License is distributed on an \"AS IS\" BASIS,\n",
              "// WITHOUT WARRANTIES OR CONDITIONS OF ANY KIND, either express or implied.\n",
              "// See the License for the specific language governing permissions and\n",
              "// limitations under the License.\n",
              "\n",
              "/**\n",
              " * @fileoverview Helpers for google.colab Python module.\n",
              " */\n",
              "(function(scope) {\n",
              "function span(text, styleAttributes = {}) {\n",
              "  const element = document.createElement('span');\n",
              "  element.textContent = text;\n",
              "  for (const key of Object.keys(styleAttributes)) {\n",
              "    element.style[key] = styleAttributes[key];\n",
              "  }\n",
              "  return element;\n",
              "}\n",
              "\n",
              "// Max number of bytes which will be uploaded at a time.\n",
              "const MAX_PAYLOAD_SIZE = 100 * 1024;\n",
              "\n",
              "function _uploadFiles(inputId, outputId) {\n",
              "  const steps = uploadFilesStep(inputId, outputId);\n",
              "  const outputElement = document.getElementById(outputId);\n",
              "  // Cache steps on the outputElement to make it available for the next call\n",
              "  // to uploadFilesContinue from Python.\n",
              "  outputElement.steps = steps;\n",
              "\n",
              "  return _uploadFilesContinue(outputId);\n",
              "}\n",
              "\n",
              "// This is roughly an async generator (not supported in the browser yet),\n",
              "// where there are multiple asynchronous steps and the Python side is going\n",
              "// to poll for completion of each step.\n",
              "// This uses a Promise to block the python side on completion of each step,\n",
              "// then passes the result of the previous step as the input to the next step.\n",
              "function _uploadFilesContinue(outputId) {\n",
              "  const outputElement = document.getElementById(outputId);\n",
              "  const steps = outputElement.steps;\n",
              "\n",
              "  const next = steps.next(outputElement.lastPromiseValue);\n",
              "  return Promise.resolve(next.value.promise).then((value) => {\n",
              "    // Cache the last promise value to make it available to the next\n",
              "    // step of the generator.\n",
              "    outputElement.lastPromiseValue = value;\n",
              "    return next.value.response;\n",
              "  });\n",
              "}\n",
              "\n",
              "/**\n",
              " * Generator function which is called between each async step of the upload\n",
              " * process.\n",
              " * @param {string} inputId Element ID of the input file picker element.\n",
              " * @param {string} outputId Element ID of the output display.\n",
              " * @return {!Iterable<!Object>} Iterable of next steps.\n",
              " */\n",
              "function* uploadFilesStep(inputId, outputId) {\n",
              "  const inputElement = document.getElementById(inputId);\n",
              "  inputElement.disabled = false;\n",
              "\n",
              "  const outputElement = document.getElementById(outputId);\n",
              "  outputElement.innerHTML = '';\n",
              "\n",
              "  const pickedPromise = new Promise((resolve) => {\n",
              "    inputElement.addEventListener('change', (e) => {\n",
              "      resolve(e.target.files);\n",
              "    });\n",
              "  });\n",
              "\n",
              "  const cancel = document.createElement('button');\n",
              "  inputElement.parentElement.appendChild(cancel);\n",
              "  cancel.textContent = 'Cancel upload';\n",
              "  const cancelPromise = new Promise((resolve) => {\n",
              "    cancel.onclick = () => {\n",
              "      resolve(null);\n",
              "    };\n",
              "  });\n",
              "\n",
              "  // Wait for the user to pick the files.\n",
              "  const files = yield {\n",
              "    promise: Promise.race([pickedPromise, cancelPromise]),\n",
              "    response: {\n",
              "      action: 'starting',\n",
              "    }\n",
              "  };\n",
              "\n",
              "  cancel.remove();\n",
              "\n",
              "  // Disable the input element since further picks are not allowed.\n",
              "  inputElement.disabled = true;\n",
              "\n",
              "  if (!files) {\n",
              "    return {\n",
              "      response: {\n",
              "        action: 'complete',\n",
              "      }\n",
              "    };\n",
              "  }\n",
              "\n",
              "  for (const file of files) {\n",
              "    const li = document.createElement('li');\n",
              "    li.append(span(file.name, {fontWeight: 'bold'}));\n",
              "    li.append(span(\n",
              "        `(${file.type || 'n/a'}) - ${file.size} bytes, ` +\n",
              "        `last modified: ${\n",
              "            file.lastModifiedDate ? file.lastModifiedDate.toLocaleDateString() :\n",
              "                                    'n/a'} - `));\n",
              "    const percent = span('0% done');\n",
              "    li.appendChild(percent);\n",
              "\n",
              "    outputElement.appendChild(li);\n",
              "\n",
              "    const fileDataPromise = new Promise((resolve) => {\n",
              "      const reader = new FileReader();\n",
              "      reader.onload = (e) => {\n",
              "        resolve(e.target.result);\n",
              "      };\n",
              "      reader.readAsArrayBuffer(file);\n",
              "    });\n",
              "    // Wait for the data to be ready.\n",
              "    let fileData = yield {\n",
              "      promise: fileDataPromise,\n",
              "      response: {\n",
              "        action: 'continue',\n",
              "      }\n",
              "    };\n",
              "\n",
              "    // Use a chunked sending to avoid message size limits. See b/62115660.\n",
              "    let position = 0;\n",
              "    do {\n",
              "      const length = Math.min(fileData.byteLength - position, MAX_PAYLOAD_SIZE);\n",
              "      const chunk = new Uint8Array(fileData, position, length);\n",
              "      position += length;\n",
              "\n",
              "      const base64 = btoa(String.fromCharCode.apply(null, chunk));\n",
              "      yield {\n",
              "        response: {\n",
              "          action: 'append',\n",
              "          file: file.name,\n",
              "          data: base64,\n",
              "        },\n",
              "      };\n",
              "\n",
              "      let percentDone = fileData.byteLength === 0 ?\n",
              "          100 :\n",
              "          Math.round((position / fileData.byteLength) * 100);\n",
              "      percent.textContent = `${percentDone}% done`;\n",
              "\n",
              "    } while (position < fileData.byteLength);\n",
              "  }\n",
              "\n",
              "  // All done.\n",
              "  yield {\n",
              "    response: {\n",
              "      action: 'complete',\n",
              "    }\n",
              "  };\n",
              "}\n",
              "\n",
              "scope.google = scope.google || {};\n",
              "scope.google.colab = scope.google.colab || {};\n",
              "scope.google.colab._files = {\n",
              "  _uploadFiles,\n",
              "  _uploadFilesContinue,\n",
              "};\n",
              "})(self);\n",
              "</script> "
            ]
          },
          "metadata": {}
        },
        {
          "output_type": "stream",
          "name": "stdout",
          "text": [
            "Saving IMDb Movies India.csv to IMDb Movies India (3).csv\n",
            "File read successfully with latin1 encoding\n",
            "                                 Name    Year Duration            Genre  \\\n",
            "0                                         NaN      NaN            Drama   \n",
            "1  #Gadhvi (He thought he was Gandhi) -2019.0  109 min            Drama   \n",
            "2                         #Homecoming -2021.0   90 min   Drama, Musical   \n",
            "3                             #Yaaram -2019.0  110 min  Comedy, Romance   \n",
            "4                   ...And Once Again -2010.0  105 min            Drama   \n",
            "\n",
            "   Rating Votes            Director       Actor 1             Actor 2  \\\n",
            "0     NaN   NaN       J.S. Randhawa      Manmauji              Birbal   \n",
            "1     7.0     8       Gaurav Bakshi  Rasika Dugal      Vivek Ghamande   \n",
            "2     NaN   NaN  Soumyajit Majumdar  Sayani Gupta   Plabita Borthakur   \n",
            "3     4.4    35          Ovais Khan       Prateik          Ishita Raj   \n",
            "4     NaN   NaN        Amol Palekar  Rajat Kapoor  Rituparna Sengupta   \n",
            "\n",
            "           Actor 3  \n",
            "0  Rajendra Bhatia  \n",
            "1    Arvind Jangid  \n",
            "2       Roy Angana  \n",
            "3  Siddhant Kapoor  \n",
            "4      Antara Mali  \n"
          ]
        }
      ]
    },
    {
      "cell_type": "markdown",
      "source": [
        "Some basic functions"
      ],
      "metadata": {
        "id": "AftL7T2DAqZK"
      }
    },
    {
      "cell_type": "code",
      "source": [
        "print(data.tail())"
      ],
      "metadata": {
        "colab": {
          "base_uri": "https://localhost:8080/"
        },
        "id": "N0p5dAj__wsn",
        "outputId": "c3ef9888-597b-4a73-c831-ae2d0e0e1d2a"
      },
      "execution_count": 22,
      "outputs": [
        {
          "output_type": "stream",
          "name": "stdout",
          "text": [
            "                      Name    Year Duration          Genre  Rating Votes  \\\n",
            "15504  Zulm Ko Jala Doonga -1988.0      NaN         Action     4.6    11   \n",
            "15505                Zulmi -1999.0  129 min  Action, Drama     4.5   655   \n",
            "15506            Zulmi Raj -2005.0      NaN         Action     NaN   NaN   \n",
            "15507        Zulmi Shikari -1988.0      NaN         Action     NaN   NaN   \n",
            "15508         Zulm-O-Sitam -1998.0  130 min  Action, Drama     6.2    20   \n",
            "\n",
            "            Director           Actor 1         Actor 2        Actor 3  \n",
            "15504  Mahendra Shah  Naseeruddin Shah   Sumeet Saigal  Suparna Anand  \n",
            "15505     Kuku Kohli      Akshay Kumar  Twinkle Khanna    Aruna Irani  \n",
            "15506     Kiran Thej   Sangeeta Tiwari             NaN            NaN  \n",
            "15507            NaN               NaN             NaN            NaN  \n",
            "15508   K.C. Bokadia        Dharmendra      Jaya Prada    Arjun Sarja  \n"
          ]
        }
      ]
    },
    {
      "cell_type": "code",
      "source": [
        "print(data.describe())"
      ],
      "metadata": {
        "colab": {
          "base_uri": "https://localhost:8080/"
        },
        "id": "91O2-ChmAJLZ",
        "outputId": "09a146aa-1720-4950-bdcc-d7643ed6ca39"
      },
      "execution_count": 24,
      "outputs": [
        {
          "output_type": "stream",
          "name": "stdout",
          "text": [
            "               Year       Rating\n",
            "count  14981.000000  7919.000000\n",
            "mean   -1987.012215     5.841621\n",
            "std       25.416689     1.381777\n",
            "min    -2022.000000     1.100000\n",
            "25%    -2009.000000     4.900000\n",
            "50%    -1991.000000     6.000000\n",
            "75%    -1968.000000     6.800000\n",
            "max    -1913.000000    10.000000\n"
          ]
        }
      ]
    },
    {
      "cell_type": "code",
      "source": [
        "print(data.columns)"
      ],
      "metadata": {
        "colab": {
          "base_uri": "https://localhost:8080/"
        },
        "id": "qLTgPdzlBaYG",
        "outputId": "26157f10-b04b-4c95-a1c5-b736316a1de2"
      },
      "execution_count": 27,
      "outputs": [
        {
          "output_type": "stream",
          "name": "stdout",
          "text": [
            "Index(['Name', 'Year', 'Duration', 'Genre', 'Rating', 'Votes', 'Director',\n",
            "       'Actor 1', 'Actor 2', 'Actor 3'],\n",
            "      dtype='object')\n"
          ]
        }
      ]
    },
    {
      "cell_type": "markdown",
      "source": [
        "Selecting features"
      ],
      "metadata": {
        "id": "-OQnASIABZln"
      }
    },
    {
      "cell_type": "code",
      "source": [
        "features = ['Director_name', 'Actor_1_name', 'Actor_2_name', 'Actor_3_name', 'Rating', 'Votes']\n",
        "target = 'Rating'\n",
        "\n",
        "\n",
        "\n"
      ],
      "metadata": {
        "id": "81kV7rIrJ0tS"
      },
      "execution_count": 38,
      "outputs": []
    },
    {
      "cell_type": "markdown",
      "source": [
        "drooping missing target values"
      ],
      "metadata": {
        "id": "hByCtKn9HKJp"
      }
    },
    {
      "cell_type": "code",
      "source": [
        "data= data.dropna(subset=[target])"
      ],
      "metadata": {
        "id": "_F3Ue-UsKWJ4"
      },
      "execution_count": 39,
      "outputs": []
    },
    {
      "cell_type": "markdown",
      "source": [
        "Handling missing values"
      ],
      "metadata": {
        "id": "GFYgygjHHBvf"
      }
    },
    {
      "cell_type": "code",
      "source": [
        "for feature in features:\n",
        "  if feature in data.columns:\n",
        "          data[feature].fillna('Unknown',inplace=True)\n",
        "  else:\n",
        "               print(f\"Feature '{feature}' not found in columns\")"
      ],
      "metadata": {
        "id": "5HcjNSINKbXQ",
        "colab": {
          "base_uri": "https://localhost:8080/"
        },
        "outputId": "8934bf91-d18a-42af-f0d3-a070a90b51f3"
      },
      "execution_count": 49,
      "outputs": [
        {
          "output_type": "stream",
          "name": "stdout",
          "text": [
            "Feature 'Director_name' not found in columns\n",
            "Feature 'Actor_1_name' not found in columns\n",
            "Feature 'Actor_2_name' not found in columns\n",
            "Feature 'Actor_3_name' not found in columns\n"
          ]
        }
      ]
    },
    {
      "cell_type": "markdown",
      "source": [
        "Encode categorical variables"
      ],
      "metadata": {
        "id": "hmMB_iMRG8X3"
      }
    },
    {
      "cell_type": "code",
      "source": [
        "categorical_features=['director_name','actor_1_name','actor_2_name','actor_3_name','genres']\n",
        "numerical_features=['budget','num_genres']"
      ],
      "metadata": {
        "id": "s4taLT_qKyS6"
      },
      "execution_count": 53,
      "outputs": []
    },
    {
      "cell_type": "markdown",
      "source": [
        "Encode numerical varibale"
      ],
      "metadata": {
        "id": "6kEpRpyEHOfU"
      }
    },
    {
      "cell_type": "code",
      "source": [
        "numerical_transformer=SimpleImputer(strategy='median')"
      ],
      "metadata": {
        "id": "LN94b-p7LF6v"
      },
      "execution_count": 55,
      "outputs": []
    },
    {
      "cell_type": "markdown",
      "source": [
        "Preprocessing the categorical and numerical data"
      ],
      "metadata": {
        "id": "jKWu2i5XHRHY"
      }
    },
    {
      "cell_type": "code",
      "source": [
        "preprocessor=ColumnTransformer(\n",
        "    transformers=[\n",
        "        ('num',numerical_transformer,numerical_features),\n",
        "        ('cat',categorical_transformer,categorical_features)\n",
        "    ])\n"
      ],
      "metadata": {
        "id": "j-2__F70LpyU"
      },
      "execution_count": 58,
      "outputs": []
    },
    {
      "cell_type": "markdown",
      "source": [
        "Defining model"
      ],
      "metadata": {
        "id": "uOzRafcCHXHv"
      }
    },
    {
      "cell_type": "code",
      "source": [
        "model=RandomForestRegressor(n_estimators=100,random_state=42)"
      ],
      "metadata": {
        "id": "keGTRIECMCxK"
      },
      "execution_count": 59,
      "outputs": []
    },
    {
      "cell_type": "markdown",
      "source": [
        "Creating pipeline"
      ],
      "metadata": {
        "id": "XfA7ZE7fHfaU"
      }
    },
    {
      "cell_type": "code",
      "source": [
        "pipeline =Pipeline(steps=[('preprocessor',preprocessor),\n",
        "                          ('model',model)\n",
        "                          ])"
      ],
      "metadata": {
        "id": "OIAhoDXXMQKr"
      },
      "execution_count": 60,
      "outputs": []
    },
    {
      "cell_type": "markdown",
      "source": [
        "Splitting the data"
      ],
      "metadata": {
        "id": "4wv2wB1VHcHj"
      }
    },
    {
      "cell_type": "code",
      "source": [
        "x= data.drop(target,axis=1)\n",
        "y = data[target]\n",
        "x_train,x_test,y_train, y_test=train_test_split(x,y,test_size=0.2,random_state=42)"
      ],
      "metadata": {
        "id": "u0CHR8rzMe0F"
      },
      "execution_count": 61,
      "outputs": []
    },
    {
      "cell_type": "code",
      "source": [
        "full code and finding accuracy"
      ],
      "metadata": {
        "id": "f8BzR7vkHjEy"
      },
      "execution_count": null,
      "outputs": []
    },
    {
      "cell_type": "code",
      "source": [
        "from sklearn.ensemble import RandomForestClassifier\n",
        "from sklearn.impute import SimpleImputer\n",
        "from sklearn.preprocessing import OneHotEncoder\n",
        "from sklearn.pipeline import Pipeline\n",
        "from sklearn.compose import ColumnTransformer\n",
        "from sklearn.model_selection import train_test_split\n",
        "from sklearn.metrics import accuracy_score\n",
        "import pandas as pd\n",
        "\n",
        "data = pd.DataFrame({\n",
        "    'category1': ['A', 'B', 'A', None],\n",
        "    'category2': ['X', 'Y', 'Z', 'X'],\n",
        "    'budget': [1000, 1500, 1200, 1300],\n",
        "    'target': [0, 1, 0, 1]  # Classification target\n",
        "})\n",
        "\n",
        "# Features and target\n",
        "features = ['category1', 'category2', 'budget']\n",
        "target = 'target'\n",
        "\n",
        "# Splitting the  data\n",
        "X = data[features]\n",
        "y = data[target]\n",
        "X_train, X_test, y_train, y_test = train_test_split(X, y, test_size=0.2, random_state=42)\n",
        "\n",
        "# Define the categorical transformer\n",
        "categorical_transformer = Pipeline(steps=[\n",
        "    ('imputer', SimpleImputer(strategy='constant', fill_value='missing')),\n",
        "    ('onehot', OneHotEncoder(handle_unknown='ignore'))\n",
        "])\n",
        "\n",
        "# Define the column transformer\n",
        "preprocessor = ColumnTransformer(\n",
        "    transformers=[\n",
        "        ('cat', categorical_transformer, ['category1', 'category2']),\n",
        "        # If 'budget' is a numerical feature, handle it separately if needed\n",
        "        ('num', 'passthrough', ['budget'])\n",
        "    ]\n",
        ")\n",
        "\n",
        "# Define the pipeline with preprocessing and model\n",
        "pipeline = Pipeline(steps=[\n",
        "    ('preprocessor', preprocessor),\n",
        "    ('classifier', RandomForestClassifier())  # Using RandomForestClassifier for classification\n",
        "])\n",
        "\n",
        "# Fit the pipeline\n",
        "pipeline.fit(X_train, y_train)\n",
        "\n",
        "# Predict and evaluate\n",
        "y_pred = pipeline.predict(X_test)\n",
        "print(\"Accuracy:\", accuracy_score(y_test, y_pred))\n",
        "\n",
        "\n"
      ],
      "metadata": {
        "id": "DQHS8DY-My3R",
        "colab": {
          "base_uri": "https://localhost:8080/"
        },
        "outputId": "a6686c96-7204-4b96-d743-2a63799d75a8"
      },
      "execution_count": 75,
      "outputs": [
        {
          "output_type": "stream",
          "name": "stdout",
          "text": [
            "Accuracy: 0.0\n"
          ]
        }
      ]
    },
    {
      "cell_type": "markdown",
      "source": [
        "Making predictions"
      ],
      "metadata": {
        "id": "AsqKHGZ0Hoym"
      }
    },
    {
      "cell_type": "code",
      "source": [
        "import numpy as np\n",
        "from sklearn.metrics import mean_squared_error, mean_absolute_error, r2_score\n",
        "rmse = np.sqrt(mean_squared_error(y_test, y_pred))\n",
        "mae = mean_absolute_error(y_test, y_pred)\n",
        "r2 = r2_score(y_test, y_pred)\n",
        "print(f'RMSE: {rmse}')\n",
        "print(f'MAE: {mae}')\n",
        "print(f'R2: {r2}')\n"
      ],
      "metadata": {
        "id": "O4GRCOcqM7CX",
        "colab": {
          "base_uri": "https://localhost:8080/"
        },
        "outputId": "f2fdcecb-2a67-407e-c563-b45715cae93f"
      },
      "execution_count": 72,
      "outputs": [
        {
          "output_type": "stream",
          "name": "stdout",
          "text": [
            "RMSE: 1.0\n",
            "MAE: 1.0\n",
            "R2: nan\n"
          ]
        },
        {
          "output_type": "stream",
          "name": "stderr",
          "text": [
            "/usr/local/lib/python3.10/dist-packages/sklearn/metrics/_regression.py:996: UndefinedMetricWarning: R^2 score is not well-defined with less than two samples.\n",
            "  warnings.warn(msg, UndefinedMetricWarning)\n"
          ]
        }
      ]
    }
  ]
}